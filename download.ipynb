{
 "cells": [
  {
   "cell_type": "code",
   "execution_count": null,
   "metadata": {
    "collapsed": true
   },
   "outputs": [],
   "source": [
    "import urllib\n",
    "import json\n",
    "import urllib.request\n",
    "val = 14024020001\n",
    "print(\"Starting Downloads\")\n",
    "#user_agent = 'Mozilla/5.0 (Windows NT 6.1; Win64; x64)'\n",
    "headers = {'User-Agent': 'Mozilla/5.0 (Macintosh; Intel Mac OS X 10_10_1) AppleWebKit/537.36 (KHTML, like Gecko) Chrome/39.0.2171.95 Safari/537.36'}\n",
    "url = \"http://picasaweb.google.com/data/entry/api/user/\"+str(val)+\"@umt.edu.pk?alt=json\"\n",
    "for i in range(1,1000):\n",
    "    try:\n",
    "        req = urllib.request.Request(url,headers = headers)\n",
    "        #req.add_header('Client',user_agent)\n",
    "        html = urllib.request.urlopen(req)\n",
    "        html = html.read().decode(\"utf-8\")\n",
    "        js = json.loads(html)\n",
    "        print(json.dumps(js['entry']['gphoto$thumbnail']['$t'], indent=4, sort_keys=True))\n",
    "        path = js['entry']['gphoto$thumbnail']['$t']\n",
    "        urllib.request.urlretrieve(str(path), \"images/\"+str(val)+\".jpg\")\n",
    "        val+=1\n",
    "        url = \"http://picasaweb.google.com/data/entry/api/user/\"+str(val)+\"@umt.edu.pk?alt=json\"\n",
    "    except:\n",
    "        print(\"Error\")\n",
    "        val+=1\n",
    "        url = \"http://picasaweb.google.com/data/entry/api/user/\"+str(val)+\"@umt.edu.pk?alt=json\"\n"
   ]
  },
  {
   "cell_type": "code",
   "execution_count": null,
   "metadata": {
    "collapsed": true
   },
   "outputs": [],
   "source": []
  }
 ],
 "metadata": {
  "kernelspec": {
   "display_name": "Python 3",
   "language": "python",
   "name": "python3"
  },
  "language_info": {
   "codemirror_mode": {
    "name": "ipython",
    "version": 3
   },
   "file_extension": ".py",
   "mimetype": "text/x-python",
   "name": "python",
   "nbconvert_exporter": "python",
   "pygments_lexer": "ipython3",
   "version": "3.6.2"
  }
 },
 "nbformat": 4,
 "nbformat_minor": 2
}
